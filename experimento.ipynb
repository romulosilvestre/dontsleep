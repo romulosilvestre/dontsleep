{
 "cells": [
  {
   "cell_type": "markdown",
   "metadata": {},
   "source": [
    "# Aplicação de Redes Neurais - Visão Computacional"
   ]
  },
  {
   "cell_type": "markdown",
   "metadata": {},
   "source": [
    "- mapa mental de redes neurais\n",
    "- https://www.mindmeister.com/3493965223/deep-learning-aprendizado-profundo"
   ]
  },
  {
   "cell_type": "markdown",
   "metadata": {},
   "source": [
    "## O Problema"
   ]
  },
  {
   "cell_type": "markdown",
   "metadata": {},
   "source": [
    "- Pela lei brasileira e segurança no trânsito é proibido dirigir com sonolência"
   ]
  },
  {
   "cell_type": "markdown",
   "metadata": {},
   "source": [
    "# A Solução"
   ]
  },
  {
   "cell_type": "markdown",
   "metadata": {},
   "source": [
    "- Implementar uma inteligência artificial \n",
    "- Criar um projeto de aplicação de redes neurais - Visão Computacional"
   ]
  },
  {
   "cell_type": "markdown",
   "metadata": {},
   "source": [
    "# As tecnologias"
   ]
  },
  {
   "cell_type": "markdown",
   "metadata": {},
   "source": [
    "- Linguagem de Programação Python\n",
    "- Biblioteca OpenCV\n",
    "- Media Pipe"
   ]
  },
  {
   "cell_type": "markdown",
   "metadata": {},
   "source": [
    "# Equipamentos"
   ]
  },
  {
   "cell_type": "markdown",
   "metadata": {},
   "source": [
    "- Camera 0 ou Camera 1 ou Outra Cameras\n",
    "- Camera Escolhida Logitech N231"
   ]
  },
  {
   "cell_type": "markdown",
   "metadata": {},
   "source": [
    "# Explicando as Tecnologias"
   ]
  },
  {
   "cell_type": "markdown",
   "metadata": {},
   "source": [
    "- A biblioteca MediaPipe - para fazer o reconhecimento da face \n",
    "- A biblioteca OpenCV - para tratar os dados visuais\n",
    "- A biblioteca NumPy - para cálculos matemáticos"
   ]
  },
  {
   "cell_type": "markdown",
   "metadata": {},
   "source": [
    "# Instalação das bibliotecas"
   ]
  },
  {
   "cell_type": "code",
   "execution_count": 1,
   "metadata": {},
   "outputs": [
    {
     "name": "stdout",
     "output_type": "stream",
     "text": [
      "Collecting opencv-python"
     ]
    },
    {
     "name": "stderr",
     "output_type": "stream",
     "text": [
      "\n",
      "[notice] A new release of pip is available: 24.2 -> 24.3.1\n",
      "[notice] To update, run: python.exe -m pip install --upgrade pip\n"
     ]
    },
    {
     "name": "stdout",
     "output_type": "stream",
     "text": [
      "\n",
      "  Downloading opencv_python-4.10.0.84-cp37-abi3-win_amd64.whl.metadata (20 kB)\n",
      "Collecting numpy>=1.21.2 (from opencv-python)\n",
      "  Using cached numpy-2.1.2-cp312-cp312-win_amd64.whl.metadata (59 kB)\n",
      "Downloading opencv_python-4.10.0.84-cp37-abi3-win_amd64.whl (38.8 MB)\n",
      "   ---------------------------------------- 0.0/38.8 MB ? eta -:--:--\n",
      "   - -------------------------------------- 1.6/38.8 MB 9.3 MB/s eta 0:00:05\n",
      "   ---- ----------------------------------- 3.9/38.8 MB 9.8 MB/s eta 0:00:04\n",
      "   ------ --------------------------------- 6.0/38.8 MB 9.7 MB/s eta 0:00:04\n",
      "   -------- ------------------------------- 8.1/38.8 MB 9.9 MB/s eta 0:00:04\n",
      "   ---------- ----------------------------- 10.0/38.8 MB 10.0 MB/s eta 0:00:03\n",
      "   ----------- ---------------------------- 11.5/38.8 MB 9.4 MB/s eta 0:00:03\n",
      "   ------------ --------------------------- 12.6/38.8 MB 8.7 MB/s eta 0:00:04\n",
      "   -------------- ------------------------- 13.9/38.8 MB 8.4 MB/s eta 0:00:03\n",
      "   --------------- ------------------------ 15.2/38.8 MB 8.0 MB/s eta 0:00:03\n",
      "   ----------------- ---------------------- 16.5/38.8 MB 7.8 MB/s eta 0:00:03\n",
      "   ------------------ --------------------- 17.6/38.8 MB 7.5 MB/s eta 0:00:03\n",
      "   ------------------- -------------------- 18.6/38.8 MB 7.4 MB/s eta 0:00:03\n",
      "   -------------------- ------------------- 19.9/38.8 MB 7.2 MB/s eta 0:00:03\n",
      "   --------------------- ------------------ 21.2/38.8 MB 7.2 MB/s eta 0:00:03\n",
      "   ---------------------- ----------------- 22.3/38.8 MB 7.1 MB/s eta 0:00:03\n",
      "   ------------------------ --------------- 23.6/38.8 MB 6.9 MB/s eta 0:00:03\n",
      "   ------------------------- -------------- 24.6/38.8 MB 6.8 MB/s eta 0:00:03\n",
      "   -------------------------- ------------- 26.0/38.8 MB 6.8 MB/s eta 0:00:02\n",
      "   ---------------------------- ----------- 27.3/38.8 MB 6.7 MB/s eta 0:00:02\n",
      "   ----------------------------- ---------- 28.3/38.8 MB 6.6 MB/s eta 0:00:02\n",
      "   ------------------------------ --------- 29.4/38.8 MB 6.6 MB/s eta 0:00:02\n",
      "   ------------------------------- -------- 30.4/38.8 MB 6.5 MB/s eta 0:00:02\n",
      "   -------------------------------- ------- 31.7/38.8 MB 6.5 MB/s eta 0:00:02\n",
      "   ---------------------------------- ----- 33.0/38.8 MB 6.5 MB/s eta 0:00:01\n",
      "   ----------------------------------- ---- 34.3/38.8 MB 6.5 MB/s eta 0:00:01\n",
      "   ------------------------------------ --- 35.9/38.8 MB 6.5 MB/s eta 0:00:01\n",
      "   -------------------------------------- - 37.2/38.8 MB 6.5 MB/s eta 0:00:01\n",
      "   ---------------------------------------  38.5/38.8 MB 6.5 MB/s eta 0:00:01\n",
      "   ---------------------------------------- 38.8/38.8 MB 6.4 MB/s eta 0:00:00\n",
      "Using cached numpy-2.1.2-cp312-cp312-win_amd64.whl (12.6 MB)\n",
      "Installing collected packages: numpy, opencv-python\n",
      "Successfully installed numpy-2.1.2 opencv-python-4.10.0.84\n"
     ]
    }
   ],
   "source": [
    "! pip install opencv-python"
   ]
  },
  {
   "cell_type": "code",
   "execution_count": 2,
   "metadata": {},
   "outputs": [],
   "source": [
    "! pip freeze >> requirements.txt"
   ]
  },
  {
   "cell_type": "code",
   "execution_count": 3,
   "metadata": {},
   "outputs": [
    {
     "name": "stdout",
     "output_type": "stream",
     "text": [
      "Collecting mediapipe"
     ]
    },
    {
     "name": "stderr",
     "output_type": "stream",
     "text": [
      "\n",
      "[notice] A new release of pip is available: 24.2 -> 24.3.1\n",
      "[notice] To update, run: python.exe -m pip install --upgrade pip\n"
     ]
    },
    {
     "name": "stdout",
     "output_type": "stream",
     "text": [
      "\n",
      "  Downloading mediapipe-0.10.14-cp312-cp312-win_amd64.whl.metadata (9.9 kB)\n",
      "Collecting absl-py (from mediapipe)\n",
      "  Downloading absl_py-2.1.0-py3-none-any.whl.metadata (2.3 kB)\n",
      "Collecting attrs>=19.1.0 (from mediapipe)\n",
      "  Using cached attrs-24.2.0-py3-none-any.whl.metadata (11 kB)\n",
      "Collecting flatbuffers>=2.0 (from mediapipe)\n",
      "  Downloading flatbuffers-24.3.25-py2.py3-none-any.whl.metadata (850 bytes)\n",
      "Collecting jax (from mediapipe)\n",
      "  Downloading jax-0.4.35-py3-none-any.whl.metadata (22 kB)\n",
      "Collecting jaxlib (from mediapipe)\n",
      "  Downloading jaxlib-0.4.35-cp312-cp312-win_amd64.whl.metadata (1.0 kB)\n",
      "Collecting matplotlib (from mediapipe)\n",
      "  Using cached matplotlib-3.9.2-cp312-cp312-win_amd64.whl.metadata (11 kB)\n",
      "Requirement already satisfied: numpy in c:\\users\\ead\\desktop\\redesneurais\\venv\\lib\\site-packages (from mediapipe) (2.1.2)\n",
      "Collecting opencv-contrib-python (from mediapipe)\n",
      "  Downloading opencv_contrib_python-4.10.0.84-cp37-abi3-win_amd64.whl.metadata (20 kB)\n",
      "Collecting protobuf<5,>=4.25.3 (from mediapipe)\n",
      "  Downloading protobuf-4.25.5-cp310-abi3-win_amd64.whl.metadata (541 bytes)\n",
      "Collecting sounddevice>=0.4.4 (from mediapipe)\n",
      "  Downloading sounddevice-0.5.1-py3-none-win_amd64.whl.metadata (1.4 kB)\n",
      "Collecting CFFI>=1.0 (from sounddevice>=0.4.4->mediapipe)\n",
      "  Downloading cffi-1.17.1-cp312-cp312-win_amd64.whl.metadata (1.6 kB)\n",
      "Collecting ml-dtypes>=0.4.0 (from jax->mediapipe)\n",
      "  Downloading ml_dtypes-0.5.0-cp312-cp312-win_amd64.whl.metadata (22 kB)\n",
      "Collecting opt-einsum (from jax->mediapipe)\n",
      "  Downloading opt_einsum-3.4.0-py3-none-any.whl.metadata (6.3 kB)\n",
      "Collecting scipy>=1.10 (from jax->mediapipe)\n",
      "  Using cached scipy-1.14.1-cp312-cp312-win_amd64.whl.metadata (60 kB)\n",
      "Collecting contourpy>=1.0.1 (from matplotlib->mediapipe)\n",
      "  Using cached contourpy-1.3.0-cp312-cp312-win_amd64.whl.metadata (5.4 kB)\n",
      "Collecting cycler>=0.10 (from matplotlib->mediapipe)\n",
      "  Using cached cycler-0.12.1-py3-none-any.whl.metadata (3.8 kB)\n",
      "Collecting fonttools>=4.22.0 (from matplotlib->mediapipe)\n",
      "  Using cached fonttools-4.54.1-cp312-cp312-win_amd64.whl.metadata (167 kB)\n",
      "Collecting kiwisolver>=1.3.1 (from matplotlib->mediapipe)\n",
      "  Using cached kiwisolver-1.4.7-cp312-cp312-win_amd64.whl.metadata (6.4 kB)\n",
      "Requirement already satisfied: packaging>=20.0 in c:\\users\\ead\\desktop\\redesneurais\\venv\\lib\\site-packages (from matplotlib->mediapipe) (24.1)\n",
      "Collecting pillow>=8 (from matplotlib->mediapipe)\n",
      "  Using cached pillow-11.0.0-cp312-cp312-win_amd64.whl.metadata (9.3 kB)\n",
      "Collecting pyparsing>=2.3.1 (from matplotlib->mediapipe)\n",
      "  Using cached pyparsing-3.2.0-py3-none-any.whl.metadata (5.0 kB)\n",
      "Requirement already satisfied: python-dateutil>=2.7 in c:\\users\\ead\\desktop\\redesneurais\\venv\\lib\\site-packages (from matplotlib->mediapipe) (2.9.0.post0)\n",
      "Collecting pycparser (from CFFI>=1.0->sounddevice>=0.4.4->mediapipe)\n",
      "  Downloading pycparser-2.22-py3-none-any.whl.metadata (943 bytes)\n",
      "Requirement already satisfied: six>=1.5 in c:\\users\\ead\\desktop\\redesneurais\\venv\\lib\\site-packages (from python-dateutil>=2.7->matplotlib->mediapipe) (1.16.0)\n",
      "Downloading mediapipe-0.10.14-cp312-cp312-win_amd64.whl (50.8 MB)\n",
      "   ---------------------------------------- 0.0/50.8 MB ? eta -:--:--\n",
      "   - -------------------------------------- 1.6/50.8 MB 8.4 MB/s eta 0:00:06\n",
      "   --- ------------------------------------ 4.2/50.8 MB 10.5 MB/s eta 0:00:05\n",
      "   ----- ---------------------------------- 6.6/50.8 MB 10.9 MB/s eta 0:00:05\n",
      "   ------ --------------------------------- 8.7/50.8 MB 11.0 MB/s eta 0:00:04\n",
      "   -------- ------------------------------- 10.7/50.8 MB 10.8 MB/s eta 0:00:04\n",
      "   --------- ------------------------------ 12.3/50.8 MB 10.2 MB/s eta 0:00:04\n",
      "   ---------- ----------------------------- 13.6/50.8 MB 9.6 MB/s eta 0:00:04\n",
      "   ----------- ---------------------------- 14.9/50.8 MB 9.3 MB/s eta 0:00:04\n",
      "   ------------ --------------------------- 16.3/50.8 MB 9.0 MB/s eta 0:00:04\n",
      "   -------------- ------------------------- 17.8/50.8 MB 8.7 MB/s eta 0:00:04\n",
      "   --------------- ------------------------ 19.1/50.8 MB 8.6 MB/s eta 0:00:04\n",
      "   ---------------- ----------------------- 20.4/50.8 MB 8.3 MB/s eta 0:00:04\n",
      "   ---------------- ----------------------- 21.5/50.8 MB 8.1 MB/s eta 0:00:04\n",
      "   ----------------- ---------------------- 22.8/50.8 MB 7.9 MB/s eta 0:00:04\n",
      "   ------------------- -------------------- 24.4/50.8 MB 7.8 MB/s eta 0:00:04\n",
      "   -------------------- ------------------- 25.7/50.8 MB 7.8 MB/s eta 0:00:04\n",
      "   --------------------- ------------------ 27.0/50.8 MB 7.7 MB/s eta 0:00:04\n",
      "   ---------------------- ----------------- 28.3/50.8 MB 7.6 MB/s eta 0:00:03\n",
      "   ----------------------- ---------------- 29.6/50.8 MB 7.5 MB/s eta 0:00:03\n",
      "   ----------------------- ---------------- 30.4/50.8 MB 7.4 MB/s eta 0:00:03\n",
      "   ------------------------ --------------- 31.5/50.8 MB 7.3 MB/s eta 0:00:03\n",
      "   ------------------------- -------------- 32.2/50.8 MB 7.1 MB/s eta 0:00:03\n",
      "   ------------------------- -------------- 33.0/50.8 MB 6.9 MB/s eta 0:00:03\n",
      "   -------------------------- ------------- 33.8/50.8 MB 6.8 MB/s eta 0:00:03\n",
      "   --------------------------- ------------ 34.6/50.8 MB 6.7 MB/s eta 0:00:03\n",
      "   ---------------------------- ----------- 35.7/50.8 MB 6.5 MB/s eta 0:00:03\n",
      "   ---------------------------- ----------- 36.7/50.8 MB 6.5 MB/s eta 0:00:03\n",
      "   ----------------------------- ---------- 37.7/50.8 MB 6.4 MB/s eta 0:00:03\n",
      "   ------------------------------ --------- 38.8/50.8 MB 6.4 MB/s eta 0:00:02\n",
      "   ------------------------------- -------- 39.8/50.8 MB 6.4 MB/s eta 0:00:02\n",
      "   -------------------------------- ------- 40.9/50.8 MB 6.3 MB/s eta 0:00:02\n",
      "   --------------------------------- ------ 41.9/50.8 MB 6.3 MB/s eta 0:00:02\n",
      "   --------------------------------- ------ 43.0/50.8 MB 6.3 MB/s eta 0:00:02\n",
      "   ---------------------------------- ----- 44.0/50.8 MB 6.2 MB/s eta 0:00:02\n",
      "   ----------------------------------- ---- 44.8/50.8 MB 6.1 MB/s eta 0:00:01\n",
      "   ----------------------------------- ---- 45.6/50.8 MB 6.0 MB/s eta 0:00:01\n",
      "   ------------------------------------ --- 46.4/50.8 MB 6.0 MB/s eta 0:00:01\n",
      "   ------------------------------------ --- 46.9/50.8 MB 5.9 MB/s eta 0:00:01\n",
      "   ------------------------------------- -- 47.7/50.8 MB 5.8 MB/s eta 0:00:01\n",
      "   ------------------------------------- -- 48.2/50.8 MB 5.8 MB/s eta 0:00:01\n",
      "   -------------------------------------- - 49.0/50.8 MB 5.7 MB/s eta 0:00:01\n",
      "   -------------------------------------- - 49.5/50.8 MB 5.7 MB/s eta 0:00:01\n",
      "   ---------------------------------------  50.3/50.8 MB 5.6 MB/s eta 0:00:01\n",
      "   ---------------------------------------  50.6/50.8 MB 5.6 MB/s eta 0:00:01\n",
      "   ---------------------------------------- 50.8/50.8 MB 5.5 MB/s eta 0:00:00\n",
      "Using cached attrs-24.2.0-py3-none-any.whl (63 kB)\n",
      "Downloading flatbuffers-24.3.25-py2.py3-none-any.whl (26 kB)\n",
      "Downloading protobuf-4.25.5-cp310-abi3-win_amd64.whl (413 kB)\n",
      "Downloading sounddevice-0.5.1-py3-none-win_amd64.whl (363 kB)\n",
      "Downloading absl_py-2.1.0-py3-none-any.whl (133 kB)\n",
      "Downloading jax-0.4.35-py3-none-any.whl (2.2 MB)\n",
      "   ---------------------------------------- 0.0/2.2 MB ? eta -:--:--\n",
      "   --------- ------------------------------ 0.5/2.2 MB 3.4 MB/s eta 0:00:01\n",
      "   ------------------------ --------------- 1.3/2.2 MB 3.4 MB/s eta 0:00:01\n",
      "   ---------------------------------- ----- 1.8/2.2 MB 3.2 MB/s eta 0:00:01\n",
      "   ---------------------------------------- 2.2/2.2 MB 3.3 MB/s eta 0:00:00\n",
      "Downloading jaxlib-0.4.35-cp312-cp312-win_amd64.whl (56.6 MB)\n",
      "   ---------------------------------------- 0.0/56.6 MB ? eta -:--:--\n",
      "   ---------------------------------------- 0.5/56.6 MB 3.4 MB/s eta 0:00:17\n",
      "    --------------------------------------- 1.3/56.6 MB 3.4 MB/s eta 0:00:17\n",
      "   - -------------------------------------- 2.1/56.6 MB 3.5 MB/s eta 0:00:16\n",
      "   - -------------------------------------- 2.6/56.6 MB 3.4 MB/s eta 0:00:16\n",
      "   -- ------------------------------------- 3.4/56.6 MB 3.5 MB/s eta 0:00:16\n",
      "   -- ------------------------------------- 4.2/56.6 MB 3.5 MB/s eta 0:00:15\n",
      "   --- ------------------------------------ 5.0/56.6 MB 3.6 MB/s eta 0:00:15\n",
      "   ---- ----------------------------------- 5.8/56.6 MB 3.6 MB/s eta 0:00:15\n",
      "   ---- ----------------------------------- 6.6/56.6 MB 3.6 MB/s eta 0:00:14\n",
      "   ----- ---------------------------------- 7.6/56.6 MB 3.7 MB/s eta 0:00:14\n",
      "   ------ --------------------------------- 8.7/56.6 MB 3.8 MB/s eta 0:00:13\n",
      "   ------ --------------------------------- 9.4/56.6 MB 3.9 MB/s eta 0:00:13\n",
      "   ------- -------------------------------- 10.5/56.6 MB 4.0 MB/s eta 0:00:12\n",
      "   -------- ------------------------------- 11.5/56.6 MB 4.0 MB/s eta 0:00:12\n",
      "   -------- ------------------------------- 12.3/56.6 MB 4.1 MB/s eta 0:00:11\n",
      "   --------- ------------------------------ 13.6/56.6 MB 4.1 MB/s eta 0:00:11\n",
      "   ---------- ----------------------------- 14.7/56.6 MB 4.2 MB/s eta 0:00:10\n",
      "   ---------- ----------------------------- 15.5/56.6 MB 4.2 MB/s eta 0:00:10\n",
      "   ----------- ---------------------------- 16.5/56.6 MB 4.2 MB/s eta 0:00:10\n",
      "   ------------ --------------------------- 17.6/56.6 MB 4.3 MB/s eta 0:00:10\n",
      "   ------------- -------------------------- 18.6/56.6 MB 4.3 MB/s eta 0:00:09\n",
      "   -------------- ------------------------- 19.9/56.6 MB 4.4 MB/s eta 0:00:09\n",
      "   -------------- ------------------------- 21.0/56.6 MB 4.4 MB/s eta 0:00:09\n",
      "   --------------- ------------------------ 22.0/56.6 MB 4.4 MB/s eta 0:00:08\n",
      "   ---------------- ----------------------- 22.8/56.6 MB 4.4 MB/s eta 0:00:08\n",
      "   ---------------- ----------------------- 23.9/56.6 MB 4.5 MB/s eta 0:00:08\n",
      "   ----------------- ---------------------- 24.9/56.6 MB 4.5 MB/s eta 0:00:08\n",
      "   ------------------ --------------------- 26.0/56.6 MB 4.5 MB/s eta 0:00:07\n",
      "   ------------------- -------------------- 27.0/56.6 MB 4.5 MB/s eta 0:00:07\n",
      "   ------------------- -------------------- 28.0/56.6 MB 4.5 MB/s eta 0:00:07\n",
      "   -------------------- ------------------- 29.1/56.6 MB 4.5 MB/s eta 0:00:07\n",
      "   --------------------- ------------------ 29.9/56.6 MB 4.5 MB/s eta 0:00:06\n",
      "   --------------------- ------------------ 30.7/56.6 MB 4.5 MB/s eta 0:00:06\n",
      "   ---------------------- ----------------- 31.5/56.6 MB 4.5 MB/s eta 0:00:06\n",
      "   ---------------------- ----------------- 32.5/56.6 MB 4.4 MB/s eta 0:00:06\n",
      "   ----------------------- ---------------- 33.3/56.6 MB 4.4 MB/s eta 0:00:06\n",
      "   ------------------------ --------------- 34.1/56.6 MB 4.4 MB/s eta 0:00:06\n",
      "   ------------------------ --------------- 34.9/56.6 MB 4.4 MB/s eta 0:00:05\n",
      "   ------------------------- -------------- 35.4/56.6 MB 4.4 MB/s eta 0:00:05\n",
      "   ------------------------- -------------- 36.2/56.6 MB 4.4 MB/s eta 0:00:05\n",
      "   -------------------------- ------------- 37.0/56.6 MB 4.3 MB/s eta 0:00:05\n",
      "   -------------------------- ------------- 37.7/56.6 MB 4.3 MB/s eta 0:00:05\n",
      "   --------------------------- ------------ 38.8/56.6 MB 4.3 MB/s eta 0:00:05\n",
      "   --------------------------- ------------ 39.6/56.6 MB 4.3 MB/s eta 0:00:04\n",
      "   ---------------------------- ----------- 40.6/56.6 MB 4.3 MB/s eta 0:00:04\n",
      "   ----------------------------- ---------- 41.4/56.6 MB 4.3 MB/s eta 0:00:04\n",
      "   ----------------------------- ---------- 42.2/56.6 MB 4.3 MB/s eta 0:00:04\n",
      "   ------------------------------ --------- 43.3/56.6 MB 4.3 MB/s eta 0:00:04\n",
      "   ------------------------------- -------- 44.0/56.6 MB 4.3 MB/s eta 0:00:03\n",
      "   ------------------------------- -------- 44.8/56.6 MB 4.3 MB/s eta 0:00:03\n",
      "   -------------------------------- ------- 45.9/56.6 MB 4.3 MB/s eta 0:00:03\n",
      "   --------------------------------- ------ 46.9/56.6 MB 4.3 MB/s eta 0:00:03\n",
      "   --------------------------------- ------ 47.7/56.6 MB 4.3 MB/s eta 0:00:03\n",
      "   ---------------------------------- ----- 48.8/56.6 MB 4.3 MB/s eta 0:00:02\n",
      "   ----------------------------------- ---- 49.5/56.6 MB 4.3 MB/s eta 0:00:02\n",
      "   ----------------------------------- ---- 50.6/56.6 MB 4.3 MB/s eta 0:00:02\n",
      "   ------------------------------------ --- 51.4/56.6 MB 4.3 MB/s eta 0:00:02\n",
      "   ------------------------------------- -- 52.4/56.6 MB 4.3 MB/s eta 0:00:01\n",
      "   ------------------------------------- -- 53.5/56.6 MB 4.3 MB/s eta 0:00:01\n",
      "   -------------------------------------- - 54.3/56.6 MB 4.3 MB/s eta 0:00:01\n",
      "   -------------------------------------- - 55.1/56.6 MB 4.3 MB/s eta 0:00:01\n",
      "   ---------------------------------------  55.8/56.6 MB 4.3 MB/s eta 0:00:01\n",
      "   ---------------------------------------  56.4/56.6 MB 4.2 MB/s eta 0:00:01\n",
      "   ---------------------------------------  56.4/56.6 MB 4.2 MB/s eta 0:00:01\n",
      "   ---------------------------------------- 56.6/56.6 MB 4.2 MB/s eta 0:00:00\n",
      "Using cached matplotlib-3.9.2-cp312-cp312-win_amd64.whl (7.8 MB)\n",
      "Downloading opencv_contrib_python-4.10.0.84-cp37-abi3-win_amd64.whl (45.5 MB)\n",
      "   ---------------------------------------- 0.0/45.5 MB ? eta -:--:--\n",
      "   ---------------------------------------- 0.5/45.5 MB 3.4 MB/s eta 0:00:14\n",
      "    --------------------------------------- 1.0/45.5 MB 3.4 MB/s eta 0:00:14\n",
      "   - -------------------------------------- 1.8/45.5 MB 3.4 MB/s eta 0:00:14\n",
      "   -- ------------------------------------- 2.4/45.5 MB 3.2 MB/s eta 0:00:14\n",
      "   -- ------------------------------------- 2.9/45.5 MB 3.1 MB/s eta 0:00:14\n",
      "   -- ------------------------------------- 3.4/45.5 MB 3.0 MB/s eta 0:00:15\n",
      "   --- ------------------------------------ 3.9/45.5 MB 2.9 MB/s eta 0:00:15\n",
      "   --- ------------------------------------ 4.5/45.5 MB 2.9 MB/s eta 0:00:15\n",
      "   ---- ----------------------------------- 5.2/45.5 MB 2.9 MB/s eta 0:00:15\n",
      "   ----- ---------------------------------- 5.8/45.5 MB 2.9 MB/s eta 0:00:14\n",
      "   ----- ---------------------------------- 6.6/45.5 MB 2.9 MB/s eta 0:00:14\n",
      "   ------ --------------------------------- 7.1/45.5 MB 2.9 MB/s eta 0:00:14\n",
      "   ------ --------------------------------- 7.9/45.5 MB 3.0 MB/s eta 0:00:13\n",
      "   ------- -------------------------------- 8.4/45.5 MB 3.0 MB/s eta 0:00:13\n",
      "   -------- ------------------------------- 9.2/45.5 MB 3.0 MB/s eta 0:00:13\n",
      "   -------- ------------------------------- 9.7/45.5 MB 3.0 MB/s eta 0:00:12\n",
      "   -------- ------------------------------- 10.2/45.5 MB 3.0 MB/s eta 0:00:12\n",
      "   --------- ------------------------------ 11.0/45.5 MB 3.0 MB/s eta 0:00:12\n",
      "   ---------- ----------------------------- 11.5/45.5 MB 3.0 MB/s eta 0:00:12\n",
      "   ---------- ----------------------------- 12.1/45.5 MB 3.0 MB/s eta 0:00:12\n",
      "   ----------- ---------------------------- 12.6/45.5 MB 2.9 MB/s eta 0:00:12\n",
      "   ----------- ---------------------------- 13.4/45.5 MB 3.0 MB/s eta 0:00:11\n",
      "   ------------ --------------------------- 13.9/45.5 MB 3.0 MB/s eta 0:00:11\n",
      "   ------------ --------------------------- 14.7/45.5 MB 3.0 MB/s eta 0:00:11\n",
      "   ------------- -------------------------- 15.2/45.5 MB 3.0 MB/s eta 0:00:11\n",
      "   -------------- ------------------------- 16.0/45.5 MB 3.0 MB/s eta 0:00:10\n",
      "   -------------- ------------------------- 16.8/45.5 MB 3.0 MB/s eta 0:00:10\n",
      "   --------------- ------------------------ 17.6/45.5 MB 3.1 MB/s eta 0:00:10\n",
      "   ---------------- ----------------------- 18.4/45.5 MB 3.1 MB/s eta 0:00:09\n",
      "   ---------------- ----------------------- 19.1/45.5 MB 3.1 MB/s eta 0:00:09\n",
      "   ----------------- ---------------------- 19.7/45.5 MB 3.1 MB/s eta 0:00:09\n",
      "   ----------------- ---------------------- 20.4/45.5 MB 3.1 MB/s eta 0:00:09\n",
      "   ------------------ --------------------- 21.0/45.5 MB 3.1 MB/s eta 0:00:08\n",
      "   ------------------- -------------------- 21.8/45.5 MB 3.1 MB/s eta 0:00:08\n",
      "   ------------------- -------------------- 22.3/45.5 MB 3.1 MB/s eta 0:00:08\n",
      "   -------------------- ------------------- 22.8/45.5 MB 3.1 MB/s eta 0:00:08\n",
      "   -------------------- ------------------- 23.3/45.5 MB 3.1 MB/s eta 0:00:08\n",
      "   --------------------- ------------------ 24.1/45.5 MB 3.0 MB/s eta 0:00:08\n",
      "   --------------------- ------------------ 24.6/45.5 MB 3.0 MB/s eta 0:00:07\n",
      "   ---------------------- ----------------- 25.2/45.5 MB 3.1 MB/s eta 0:00:07\n",
      "   ---------------------- ----------------- 25.7/45.5 MB 3.0 MB/s eta 0:00:07\n",
      "   ----------------------- ---------------- 26.5/45.5 MB 3.0 MB/s eta 0:00:07\n",
      "   ----------------------- ---------------- 27.0/45.5 MB 3.0 MB/s eta 0:00:07\n",
      "   ------------------------ --------------- 27.5/45.5 MB 3.0 MB/s eta 0:00:06\n",
      "   ------------------------ --------------- 28.0/45.5 MB 3.0 MB/s eta 0:00:06\n",
      "   ------------------------- -------------- 28.8/45.5 MB 3.0 MB/s eta 0:00:06\n",
      "   -------------------------- ------------- 29.6/45.5 MB 3.0 MB/s eta 0:00:06\n",
      "   -------------------------- ------------- 30.1/45.5 MB 3.0 MB/s eta 0:00:06\n",
      "   --------------------------- ------------ 30.9/45.5 MB 3.0 MB/s eta 0:00:05\n",
      "   --------------------------- ------------ 31.7/45.5 MB 3.1 MB/s eta 0:00:05\n",
      "   ---------------------------- ----------- 32.2/45.5 MB 3.1 MB/s eta 0:00:05\n",
      "   ----------------------------- ---------- 33.0/45.5 MB 3.1 MB/s eta 0:00:05\n",
      "   ----------------------------- ---------- 33.6/45.5 MB 3.1 MB/s eta 0:00:04\n",
      "   ------------------------------ --------- 34.3/45.5 MB 3.1 MB/s eta 0:00:04\n",
      "   ------------------------------ --------- 34.9/45.5 MB 3.1 MB/s eta 0:00:04\n",
      "   ------------------------------- -------- 35.7/45.5 MB 3.1 MB/s eta 0:00:04\n",
      "   ------------------------------- -------- 36.2/45.5 MB 3.1 MB/s eta 0:00:04\n",
      "   -------------------------------- ------- 36.7/45.5 MB 3.1 MB/s eta 0:00:03\n",
      "   -------------------------------- ------- 37.2/45.5 MB 3.0 MB/s eta 0:00:03\n",
      "   --------------------------------- ------ 37.7/45.5 MB 3.0 MB/s eta 0:00:03\n",
      "   --------------------------------- ------ 38.3/45.5 MB 3.0 MB/s eta 0:00:03\n",
      "   ---------------------------------- ----- 38.8/45.5 MB 3.0 MB/s eta 0:00:03\n",
      "   ---------------------------------- ----- 39.3/45.5 MB 3.0 MB/s eta 0:00:03\n",
      "   ---------------------------------- ----- 39.8/45.5 MB 3.0 MB/s eta 0:00:02\n",
      "   ----------------------------------- ---- 40.6/45.5 MB 3.0 MB/s eta 0:00:02\n",
      "   ------------------------------------ --- 41.2/45.5 MB 3.0 MB/s eta 0:00:02\n",
      "   ------------------------------------ --- 41.9/45.5 MB 3.0 MB/s eta 0:00:02\n",
      "   ------------------------------------- -- 42.5/45.5 MB 3.0 MB/s eta 0:00:02\n",
      "   ------------------------------------- -- 43.0/45.5 MB 3.0 MB/s eta 0:00:01\n",
      "   -------------------------------------- - 43.5/45.5 MB 3.0 MB/s eta 0:00:01\n",
      "   -------------------------------------- - 43.8/45.5 MB 3.0 MB/s eta 0:00:01\n",
      "   -------------------------------------- - 44.3/45.5 MB 3.0 MB/s eta 0:00:01\n",
      "   ---------------------------------------  44.8/45.5 MB 3.0 MB/s eta 0:00:01\n",
      "   ---------------------------------------  45.4/45.5 MB 3.0 MB/s eta 0:00:01\n",
      "   ---------------------------------------- 45.5/45.5 MB 2.9 MB/s eta 0:00:00\n",
      "Downloading cffi-1.17.1-cp312-cp312-win_amd64.whl (181 kB)\n",
      "Using cached contourpy-1.3.0-cp312-cp312-win_amd64.whl (218 kB)\n",
      "Using cached cycler-0.12.1-py3-none-any.whl (8.3 kB)\n",
      "Using cached fonttools-4.54.1-cp312-cp312-win_amd64.whl (2.2 MB)\n",
      "Using cached kiwisolver-1.4.7-cp312-cp312-win_amd64.whl (55 kB)\n",
      "Downloading ml_dtypes-0.5.0-cp312-cp312-win_amd64.whl (213 kB)\n",
      "Using cached pillow-11.0.0-cp312-cp312-win_amd64.whl (2.6 MB)\n",
      "Using cached pyparsing-3.2.0-py3-none-any.whl (106 kB)\n",
      "Using cached scipy-1.14.1-cp312-cp312-win_amd64.whl (44.5 MB)\n",
      "Downloading opt_einsum-3.4.0-py3-none-any.whl (71 kB)\n",
      "Downloading pycparser-2.22-py3-none-any.whl (117 kB)\n",
      "Installing collected packages: flatbuffers, scipy, pyparsing, pycparser, protobuf, pillow, opt-einsum, opencv-contrib-python, ml-dtypes, kiwisolver, fonttools, cycler, contourpy, attrs, absl-py, matplotlib, jaxlib, CFFI, sounddevice, jax, mediapipe\n",
      "Successfully installed CFFI-1.17.1 absl-py-2.1.0 attrs-24.2.0 contourpy-1.3.0 cycler-0.12.1 flatbuffers-24.3.25 fonttools-4.54.1 jax-0.4.35 jaxlib-0.4.35 kiwisolver-1.4.7 matplotlib-3.9.2 mediapipe-0.10.14 ml-dtypes-0.5.0 opencv-contrib-python-4.10.0.84 opt-einsum-3.4.0 pillow-11.0.0 protobuf-4.25.5 pycparser-2.22 pyparsing-3.2.0 scipy-1.14.1 sounddevice-0.5.1\n"
     ]
    }
   ],
   "source": [
    "! pip install mediapipe"
   ]
  },
  {
   "cell_type": "markdown",
   "metadata": {},
   "source": [
    "# O projeto é ponto de partida (baseline)"
   ]
  },
  {
   "cell_type": "markdown",
   "metadata": {},
   "source": [
    "- Ideias inovadoras (InovaTech)\n",
    "- Implementar e sugerir novas idéias para a Industria Automobística (SENAI)\n"
   ]
  },
  {
   "cell_type": "code",
   "execution_count": 4,
   "metadata": {},
   "outputs": [],
   "source": [
    "import cv2"
   ]
  },
  {
   "cell_type": "code",
   "execution_count": 5,
   "metadata": {},
   "outputs": [
    {
     "data": {
      "text/plain": [
       "< cv2.VideoCapture 0000021A6CC0CC30>"
      ]
     },
     "execution_count": 5,
     "metadata": {},
     "output_type": "execute_result"
    }
   ],
   "source": [
    "cv2.VideoCapture(1)"
   ]
  },
  {
   "cell_type": "markdown",
   "metadata": {},
   "source": [
    "- se você tiver mais camêras, precisa colocar o número correspondente a elas. \n",
    "- agora, vamos armazenar a saída dessa captura a uma variável que chamaremos de cap (referente a \"captura\")\n",
    "- ao utilizar a camera se atentar que as vezes temos mais de uma camera no computador, por exemplo, uma você usa para fazer uma videoconferência e a outra gravar um tela.\n",
    "- Se for apenas uma camera utilizar o valor 0\n",
    "- Se tem mais de uma colocar o número correspondente"
   ]
  },
  {
   "cell_type": "code",
   "execution_count": 6,
   "metadata": {},
   "outputs": [],
   "source": [
    "cap = cv2.VideoCapture(1)"
   ]
  },
  {
   "cell_type": "markdown",
   "metadata": {},
   "source": [
    "- você lembra do while ?\n",
    "- vamos revisar?\n"
   ]
  },
  {
   "cell_type": "code",
   "execution_count": 8,
   "metadata": {},
   "outputs": [
    {
     "name": "stdout",
     "output_type": "stream",
     "text": [
      "1\n",
      "2\n",
      "3\n",
      "4\n",
      "5\n",
      "6\n",
      "7\n",
      "8\n",
      "9\n",
      "10\n"
     ]
    }
   ],
   "source": [
    "# o while é uma estrutura de repetição (iteração) , chamada também de looping\n",
    "cont = 1\n",
    "while cont<=10:\n",
    "    print(cont)\n",
    "    cont+=1"
   ]
  },
  {
   "cell_type": "markdown",
   "metadata": {},
   "source": [
    "- Usando o while, receberemos a primeira captura (inicio) \n",
    "- O objetivo é que a captura aconteça ao vivo\n",
    "- Para isso, devemos adicionar uma estrutura de repetição\n"
   ]
  },
  {
   "cell_type": "markdown",
   "metadata": {},
   "source": []
  },
  {
   "cell_type": "markdown",
   "metadata": {},
   "source": [
    "- Vamos agora aplicar o while, no nosso projeto?"
   ]
  },
  {
   "cell_type": "code",
   "execution_count": 16,
   "metadata": {},
   "outputs": [],
   "source": [
    "# Códigos essenciais\n",
    "\n",
    "# while cap.isOpened() - enquanto a camera estiver aberta o while continuara rodando\n",
    "while cap.isOpened():\n",
    "    # vamos criar duas variáveis\n",
    "    \n",
    "    # SUCESSO verifica se os dados estão sendo coletados.\n",
    "            #  Ela é booleana, significa que se identificar algum vídeo ou frame, retornará verdadeiro. Se não identificar nenhum vídeo, retornará falso\n",
    "    # FRAME é uma variável frame que por sua vez, é a captura coletada pela câmera. \n",
    "\n",
    "    sucesso,frame = cap.read()  # Utilizaremos o método cap.read() para leitura\n",
    "    # agora vamos usar o if (condicional), vamos verificar se existe ou não captura acontecendo\n",
    "    # se não tivermos sucesso (booleano), queremos uma mensagem na tela - ignorando o frame vazio da camêra\n",
    "    # essa mensagem é um aviso, logo , nada esta acontecendo no nosso projeto\n",
    "    if not sucesso:\n",
    "        print('Ignorando o frame vazio da camêra')\n",
    "        continue # pesquise sobre a diferença do continue e break (história go to)\n",
    "    # depois disso, saímos do bloco condicional e podemos visualizar a captura e conferir o que está acontecendo.\n",
    "    # podemos contar com o método imshow( ) pra isso\n",
    "    # dentro dos parenteses passamos dois parâmetros 'Camera' e frame\n",
    "    # Passaremos um nome para nossa janela no formato string 'Camera'\n",
    "    # Também outro parametro - frame - definindo que o que queremos mostrar que é nosso próprio frame\n",
    "    cv2.imshow('Camera',frame)\n",
    "    # com isso, conseguiremos mostrar a imagem, mas não temos uma opção de controle para fechar a camera em tempo real.\n",
    "    # Para isso, usaremos um condicional if\n",
    "    # Ele vai pegar o laço de repetição quando apertarmos teclas específicas.\n",
    "    # Como a intenção é fechar vamos usar \"C\" de \"Close\"\n",
    "    # waitKey(10) vai esperar uma chave\n",
    "    # verificar se essa chave é c\n",
    "    # Para isso passamos & OxFF \n",
    "    \"\"\"\n",
    "      Detalhando mais\n",
    "\n",
    "      cv2.waitKey(10)\n",
    "\n",
    "            cv2.waitKey() é uma função do OpenCV\n",
    "            Que espera por uma entrada de tecla por um certo período de tempo em milissegundos\n",
    "            Passado como argumento. \n",
    "            Nesse caso, 10 indica que o programa espera 10 milissegundos.\n",
    "            Se uma tecla for pressionada durante esse tempo o código da tecla será retornado.\n",
    "            Se nenhum valor for passado, o waitKey() não bloqueia a execução e retorna -1 se nenhuma tecla for pressionada\n",
    "    \n",
    "      & 0xFF\n",
    "\n",
    "            O operador & 0xFF é uma operação de bitwise AND com 0xFF (255 em hexadecimal).\n",
    "            Isso é feito para garantir compatibilidade com sistemas operacionais diferentes.\n",
    "            Isolando o último byte do código da tecla pressionada. \n",
    "            Muitas vezes, sistemas operacionais retornam um valor de 32 bits.\n",
    "            Mas 0xFF restringe o valor à faixa de 0 a 255, que é a faixa da tabela ASCII.    \n",
    "    \n",
    "      == ord('c')\n",
    "\n",
    "           ord('c') retorna o código ASCII do caractere 'c', que é 99.\n",
    "           Esse trecho está verificando se a tecla pressionada foi 'c'. \n",
    "           Se for, a condição do if será verdadeira, permitindo que um bloco de código seja \n",
    "           executado a seguir.\n",
    "    \"\"\"\n",
    "    if cv2.waitKey(10) & 0xFF == ord('c'):\n",
    "        break\n",
    "# agora para fechar a caputura fora do if e do while\n",
    "cap.release()\n",
    "# também, vamos fechar todas as janelas/pop-ups, pois o método imshow() vai abrir um pop-up, mostrando um frame\n",
    "cv2.destroyAllWindows()\n",
    "# agora é só conectar a camera e executar"
   ]
  },
  {
   "cell_type": "markdown",
   "metadata": {},
   "source": [
    "# Aula 2 - MediaPipe Face Mesh"
   ]
  },
  {
   "cell_type": "code",
   "execution_count": null,
   "metadata": {},
   "outputs": [],
   "source": []
  },
  {
   "cell_type": "code",
   "execution_count": 17,
   "metadata": {},
   "outputs": [
    {
     "ename": "AttributeError",
     "evalue": "module 'mediapipe' has no attribute 'solution'",
     "output_type": "error",
     "traceback": [
      "\u001b[1;31m---------------------------------------------------------------------------\u001b[0m",
      "\u001b[1;31mAttributeError\u001b[0m                            Traceback (most recent call last)",
      "Cell \u001b[1;32mIn[17], line 4\u001b[0m\n\u001b[0;32m      2\u001b[0m \u001b[38;5;28;01mimport\u001b[39;00m \u001b[38;5;21;01mmediapipe\u001b[39;00m \u001b[38;5;28;01mas\u001b[39;00m \u001b[38;5;21;01mmp\u001b[39;00m\n\u001b[0;32m      3\u001b[0m \u001b[38;5;66;03m# primeiro vamos importar o mediapipe\u001b[39;00m\n\u001b[1;32m----> 4\u001b[0m mp_drawing \u001b[38;5;241m=\u001b[39m \u001b[43mmp\u001b[49m\u001b[38;5;241;43m.\u001b[39;49m\u001b[43msolution\u001b[49m\n",
      "\u001b[1;31mAttributeError\u001b[0m: module 'mediapipe' has no attribute 'solution'"
     ]
    }
   ],
   "source": [
    "# importando mp\n",
    "import mediapipe as mp\n",
    "# primeiro vamos importar o mediapipe\n",
    "mp_drawing = mp.solution"
   ]
  }
 ],
 "metadata": {
  "kernelspec": {
   "display_name": "venv",
   "language": "python",
   "name": "python3"
  },
  "language_info": {
   "codemirror_mode": {
    "name": "ipython",
    "version": 3
   },
   "file_extension": ".py",
   "mimetype": "text/x-python",
   "name": "python",
   "nbconvert_exporter": "python",
   "pygments_lexer": "ipython3",
   "version": "3.12.7"
  }
 },
 "nbformat": 4,
 "nbformat_minor": 2
}
